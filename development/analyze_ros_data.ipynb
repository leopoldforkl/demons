{
 "cells": [
  {
   "cell_type": "code",
   "execution_count": 1,
   "id": "e1f68283",
   "metadata": {},
   "outputs": [],
   "source": [
    "import sys\n",
    "import os\n",
    "\n",
    "ROOT = os.path.abspath(os.path.join(os.getcwd(), \"..\"))\n",
    "sys.path.append(os.path.abspath(ROOT))"
   ]
  },
  {
   "cell_type": "code",
   "execution_count": 2,
   "id": "1463e1e6",
   "metadata": {},
   "outputs": [],
   "source": [
    "import json\n",
    "import os\n",
    "import numpy as np\n",
    "import pyvista as pv\n",
    "import matplotlib.pyplot as plt\n",
    "import k3d\n",
    "\n",
    "from config import ROS_DATASET_PATH\n",
    "\n",
    "# Set dataset and output paths\n",
    "dataset_root = ROS_DATASET_PATH"
   ]
  },
  {
   "cell_type": "code",
   "execution_count": 3,
   "id": "b5a34339",
   "metadata": {},
   "outputs": [
    {
     "name": "stdout",
     "output_type": "stream",
     "text": [
      "\n",
      "Radar Point Cloud (Frame 10, Timestamp: 1743405884458642729) (first 5 of 162 points):\n",
      "Point 1: x=14.312, y=-0.537, z=3.122, velocity=0.014 m/s\n",
      "Point 2: x=15.132, y=-1.347, z=2.871, velocity=-0.011 m/s\n",
      "Point 3: x=16.248, y=-2.208, z=1.666, velocity=-0.033 m/s\n",
      "Point 4: x=16.187, y=-2.208, z=2.180, velocity=-0.033 m/s\n",
      "Point 5: x=16.603, y=-2.349, z=1.910, velocity=0.014 m/s\n",
      "\n",
      "Lidar Point Cloud (Frame 10, Timestamp: 1743405885862791741) (first 5 of 28960 points):\n",
      "Point 1: x=29.404, y=-0.000, z=-7.863\n",
      "Point 2: x=29.386, y=-0.005, z=-6.776\n",
      "Point 3: x=29.434, y=-0.010, z=-5.709\n",
      "Point 4: x=29.679, y=-0.016, z=-4.695\n",
      "Point 5: x=29.939, y=-0.021, z=-3.671\n"
     ]
    }
   ],
   "source": [
    "# Configuration\n",
    "rosbag_id = \"ros2bag_20250331_092443\"\n",
    "meta_data_path = f'{dataset_root}/{rosbag_id}/metadata.json'\n",
    "bag_path = f'{dataset_root}/{rosbag_id}'\n",
    "frame = 10\n",
    "\n",
    "# Load metadata\n",
    "with open(meta_data_path, 'r') as f:\n",
    "    metadata = json.load(f)\n",
    "\n",
    "def load_frame(sensor_type, frame_index=0):\n",
    "    \"\"\"Load a specific frame's data with proper validation\"\"\"\n",
    "    frame_info = metadata[sensor_type][frame_index]\n",
    "    file_path = os.path.join(bag_path, frame_info['filename'])\n",
    "    \n",
    "    try:\n",
    "        with open(file_path, 'rb') as f:\n",
    "            # Read header\n",
    "            point_count = np.fromfile(f, dtype='<u4', count=1)[0]\n",
    "            has_velocity = np.fromfile(f, dtype='u1', count=1)[0]\n",
    "            \n",
    "            # Read points\n",
    "            points = np.fromfile(f, dtype='<f4', count=point_count*3)\n",
    "            points = points.reshape(-1, 3)\n",
    "            \n",
    "            if sensor_type == 'radar' and has_velocity:\n",
    "                velocities = np.fromfile(f, dtype='<f4', count=point_count)\n",
    "                return points, velocities.flatten(), frame_info  # Changed to 1D array\n",
    "            else:\n",
    "                return points, None, frame_info\n",
    "                \n",
    "    except Exception as e:\n",
    "        print(f\"Error loading {sensor_type} frame {frame_index}: {str(e)}\")\n",
    "        return np.zeros((0, 3)), None, frame_info\n",
    "\n",
    "def print_points(points, velocities=None, title=\"Point Cloud\", max_points=5):\n",
    "    \"\"\"Print first few points in a readable format\"\"\"\n",
    "    print(f\"\\n{title} (first {min(max_points, len(points))} of {len(points)} points):\")\n",
    "    for i in range(min(max_points, len(points))):\n",
    "        point_str = f\"Point {i+1}: x={points[i,0]:.3f}, y={points[i,1]:.3f}, z={points[i,2]:.3f}\"\n",
    "        if velocities is not None:\n",
    "            # Handle both 1D and 2D velocity arrays\n",
    "            vel = velocities[i] if isinstance(velocities, np.ndarray) else velocities\n",
    "            point_str += f\", velocity={float(vel):.3f} m/s\"\n",
    "        print(point_str)\n",
    "\n",
    "# Load and display radar data\n",
    "radar_points, radar_velocities, radar_info = load_frame('radar', frame)\n",
    "print_points(radar_points, radar_velocities, \n",
    "             f\"Radar Point Cloud (Frame {radar_info['frame_count']}, Timestamp: {radar_info['timestamp']})\")\n",
    "\n",
    "# Load and display lidar data\n",
    "lidar_points, _, lidar_info = load_frame('lidar', frame)\n",
    "print_points(lidar_points, None, \n",
    "             f\"Lidar Point Cloud (Frame {lidar_info['frame_count']}, Timestamp: {lidar_info['timestamp']})\")"
   ]
  },
  {
   "cell_type": "code",
   "execution_count": 4,
   "id": "e36ba14b",
   "metadata": {},
   "outputs": [
    {
     "name": "stderr",
     "output_type": "stream",
     "text": [
      "c:\\Users\\leopo\\anaconda3\\envs\\demons-env\\lib\\site-packages\\traittypes\\traittypes.py:101: UserWarning: Given trait value dtype \"float64\" does not match required type \"float32\". A coerced copy has been created.\n",
      "  np.dtype(self.dtype).name))\n"
     ]
    },
    {
     "data": {
      "application/vnd.jupyter.widget-view+json": {
       "model_id": "49ef1c6e66eb486488c362324adc9480",
       "version_major": 2,
       "version_minor": 0
      },
      "text/plain": [
       "Output()"
      ]
     },
     "metadata": {},
     "output_type": "display_data"
    }
   ],
   "source": [
    "auto_frame = True\n",
    "grid_visible = False\n",
    "\n",
    "pc_radar = radar_points\n",
    "\n",
    "plot = k3d.plot(camera_auto_fit=auto_frame, axes_helper=0.0, grid_visible=grid_visible)\n",
    "\n",
    "#Radar-Points:\n",
    "plot += k3d.points(positions=np.asarray(pc_radar[:, :3], dtype=float), point_size=0.5)\n",
    "\n",
    "\n",
    "plot.display()"
   ]
  }
 ],
 "metadata": {
  "kernelspec": {
   "display_name": "demons-env",
   "language": "python",
   "name": "python3"
  },
  "language_info": {
   "codemirror_mode": {
    "name": "ipython",
    "version": 3
   },
   "file_extension": ".py",
   "mimetype": "text/x-python",
   "name": "python",
   "nbconvert_exporter": "python",
   "pygments_lexer": "ipython3",
   "version": "3.7.12"
  }
 },
 "nbformat": 4,
 "nbformat_minor": 5
}
